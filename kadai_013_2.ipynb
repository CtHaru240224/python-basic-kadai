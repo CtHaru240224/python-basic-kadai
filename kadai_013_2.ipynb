{
  "nbformat": 4,
  "nbformat_minor": 0,
  "metadata": {
    "colab": {
      "provenance": [],
      "authorship_tag": "ABX9TyPRVoROOnOLkmv8VQlR/17L",
      "include_colab_link": true
    },
    "kernelspec": {
      "name": "python3",
      "display_name": "Python 3"
    },
    "language_info": {
      "name": "python"
    }
  },
  "cells": [
    {
      "cell_type": "markdown",
      "metadata": {
        "id": "view-in-github",
        "colab_type": "text"
      },
      "source": [
        "<a href=\"https://colab.research.google.com/github/CtHaru240224/python-basic-kadai/blob/main/kadai_013_2.ipynb\" target=\"_parent\"><img src=\"https://colab.research.google.com/assets/colab-badge.svg\" alt=\"Open In Colab\"/></a>"
      ]
    },
    {
      "cell_type": "code",
      "source": [
        "def calculate_total_price(price, tax_rate):\n",
        "    \"\"\"\n",
        "    商品の金額に消費税を加えて計算結果を返す関数\n",
        "\n",
        "    Parameters:\n",
        "    - price (float): 商品の金額\n",
        "    - tax_rate (float): 消費税率（デフォルトは10%）\n",
        "\n",
        "    Returns:\n",
        "    - float: 商品の金額に消費税を加えた計算結果\n",
        "    \"\"\"\n",
        "    total_price = price * (1 + tax_rate)\n",
        "    return total_price\n",
        "\n",
        "\n",
        "# テスト用例\n",
        "price = 1000  # 商品の金額\n",
        "tax_rate = 0.1  # 消費税率（10%）\n",
        "\n",
        "total_price = calculate_total_price(price, tax_rate)\n",
        "print(f\"商品の金額：{price}円\")\n",
        "print(f\"合計金額：{total_price}円\")\n"
      ],
      "metadata": {
        "colab": {
          "base_uri": "https://localhost:8080/"
        },
        "id": "cQHV4LhxVPwe",
        "outputId": "0237f2a7-42eb-4939-a0a8-d2955bb1ee2a"
      },
      "execution_count": 1,
      "outputs": [
        {
          "output_type": "stream",
          "name": "stdout",
          "text": [
            "商品の金額：1000円\n",
            "合計金額：1100.0円\n"
          ]
        }
      ]
    }
  ]
}