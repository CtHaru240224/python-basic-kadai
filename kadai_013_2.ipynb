{
  "nbformat": 4,
  "nbformat_minor": 0,
  "metadata": {
    "colab": {
      "provenance": [],
      "authorship_tag": "ABX9TyOUysH9nPhmMVz5BvW1IDKG",
      "include_colab_link": true
    },
    "kernelspec": {
      "name": "python3",
      "display_name": "Python 3"
    },
    "language_info": {
      "name": "python"
    }
  },
  "cells": [
    {
      "cell_type": "markdown",
      "metadata": {
        "id": "view-in-github",
        "colab_type": "text"
      },
      "source": [
        "<a href=\"https://colab.research.google.com/github/CtHaru240224/python-basic-kadai/blob/main/kadai_013_2.ipynb\" target=\"_parent\"><img src=\"https://colab.research.google.com/assets/colab-badge.svg\" alt=\"Open In Colab\"/></a>"
      ]
    },
    {
      "cell_type": "code",
      "execution_count": 1,
      "metadata": {
        "colab": {
          "base_uri": "https://localhost:8080/"
        },
        "id": "79AV9ng1F1dE",
        "outputId": "c65c61fc-6477-4fbb-e89e-2e0094c6e09d"
      },
      "outputs": [
        {
          "output_type": "stream",
          "name": "stdout",
          "text": [
            "商品の金額：1000円\n",
            "合計金額：1100.0円\n"
          ]
        }
      ],
      "source": [
        "def calculate_total_price(price, tax_rate=0.1):\n",
        "    \"\"\"\n",
        "    商品の金額に消費税を加えて計算結果を返す関数\n",
        "\n",
        "    Parameters:\n",
        "    - price (float): 商品の金額\n",
        "    - tax_rate (float): 消費税率（デフォルトは10%）\n",
        "\n",
        "    Returns:\n",
        "    - float: 商品の金額に消費税を加えた計算結果\n",
        "    \"\"\"\n",
        "    total_price = price * (1 + tax_rate)\n",
        "    return total_price\n",
        "\n",
        "\n",
        "# テスト用例\n",
        "price = 1000  # 商品の金額\n",
        "tax_rate = 0.1  # 消費税率（10%）\n",
        "\n",
        "total_price = calculate_total_price(price, tax_rate)\n",
        "print(f\"商品の金額：{price}円\")\n",
        "print(f\"合計金額：{total_price}円\")\n"
      ]
    }
  ]
}