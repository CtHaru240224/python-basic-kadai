{
  "nbformat": 4,
  "nbformat_minor": 0,
  "metadata": {
    "colab": {
      "provenance": [],
      "authorship_tag": "ABX9TyMsNZkjIvJTryXxU3aBfKXr",
      "include_colab_link": true
    },
    "kernelspec": {
      "name": "python3",
      "display_name": "Python 3"
    },
    "language_info": {
      "name": "python"
    }
  },
  "cells": [
    {
      "cell_type": "markdown",
      "metadata": {
        "id": "view-in-github",
        "colab_type": "text"
      },
      "source": [
        "<a href=\"https://colab.research.google.com/github/CtHaru240224/python-basic-kadai/blob/main/kadai_017.ipynb\" target=\"_parent\"><img src=\"https://colab.research.google.com/assets/colab-badge.svg\" alt=\"Open In Colab\"/></a>"
      ]
    },
    {
      "cell_type": "code",
      "execution_count": 1,
      "metadata": {
        "colab": {
          "base_uri": "https://localhost:8080/"
        },
        "id": "6c8dKAWnJ3Pu",
        "outputId": "b7a35363-2163-4685-9479-470b4f875f4f"
      },
      "outputs": [
        {
          "output_type": "stream",
          "name": "stdout",
          "text": [
            "太郎 は大人です\n",
            "花子 は大人ではありません\n",
            "次郎 は大人です\n"
          ]
        }
      ],
      "source": [
        "class Human:\n",
        "    def __init__(self, name, age):\n",
        "        self.name = name\n",
        "        self.age = age\n",
        "\n",
        "    def check_adult(self):\n",
        "        if self.age >= 20:\n",
        "            print(f\"{self.name} は大人です\")\n",
        "        else:\n",
        "            print(f\"{self.name} は大人ではありません\")\n",
        "\n",
        "# Humanクラスのインスタンスを作成し、リストに追加する\n",
        "humans = []\n",
        "humans.append(Human(\"太郎\", 25))\n",
        "humans.append(Human(\"花子\", 18))\n",
        "humans.append(Human(\"次郎\", 30))\n",
        "\n",
        "# リストの要素数分だけcheck_adultメソッドを呼び出す\n",
        "for person in humans:\n",
        "    person.check_adult()\n"
      ]
    }
  ]
}
